{
 "cells": [
  {
   "cell_type": "code",
   "execution_count": 1,
   "metadata": {},
   "outputs": [],
   "source": [
    "# importing the pytorch library\n",
    "import torch\n",
    "import torch.nn as nn\n",
    "import torch.nn.functional as F\n",
    "import torch.optim as optim\n",
    "\n",
    "# importing the torchvision library\n",
    "import torchvision\n",
    "import torchvision.transforms as transforms\n",
    "\n",
    "# importing the matplotlib library\n",
    "import matplotlib.pyplot as plt\n",
    "import numpy as np\n",
    "# defining the device\n",
    "#device = torch.device(\"cuda:0\" if torch.cuda.is_available() else \"cpu\")"
   ]
  },
  {
   "cell_type": "code",
   "execution_count": null,
   "metadata": {},
   "outputs": [],
   "source": [
    "# importing the CIFAR100 dataset\n",
    "transform = transforms.Compose(\n",
    "    [transforms.ToTensor(),\n",
    "        transforms.Normalize((0.5, 0.5, 0.5), (0.5, 0.5, 0.5))])\n",
    "\n",
    "trainset = torchvision.datasets.CIFAR100(root='./data', train=True)\n",
    "trainloader = torch.utils.data.DataLoader(trainset, batch_size=4,\n",
    "                                            shuffle=True, num_workers=2)\n",
    "\n",
    "testset = torchvision.datasets.CIFAR100(root='./data', train=False)\n",
    "testloader = torch.utils.data.DataLoader(testset, batch_size=4,\n",
    "                                        shuffle=False, num_workers=2)\n",
    "\n",
    "classes = ('plane', 'car', 'bird', 'cat', 'deer', 'dog', 'frog', 'horse', 'ship', 'truck')"
   ]
  },
  {
   "cell_type": "code",
   "execution_count": 2,
   "metadata": {},
   "outputs": [
    {
     "name": "stdout",
     "output_type": "stream",
     "text": [
      "Number of training examples: \n"
     ]
    }
   ],
   "source": [
    "print(\"Number of training examples: \")"
   ]
  },
  {
   "cell_type": "code",
   "execution_count": null,
   "metadata": {},
   "outputs": [],
   "source": [
    "# Define a MLP model class inheriting from nn.Module\n",
    "class MLP(nn.Module):\n",
    "    # Define the model layers in __init__ function\n",
    "    def __init__(self):\n",
    "        # Call the __init__ function of the parent class (nn.Module)\n",
    "        super(MLP, self).__init__()\n",
    "        # Define the first fully connected layer with 32*32*3 input features and 512 output features\n",
    "        self.fc1 = nn.Linear(32*32*3, 512)\n",
    "        # Define the second fully connected layer with 512 input features and 256 output features\n",
    "        self.fc2 = nn.Linear(512, 256)\n",
    "        # Define the third fully connected layer with 256 input features and 128 output features\n",
    "        self.fc3 = nn.Linear(256, 128)\n",
    "        # Define the output layer with 128 input features and 100 output features\n",
    "        self.fc4 = nn.Linear(128, 100)\n",
    "\n",
    "    # Define the forward pass through the model in the forward function\n",
    "    def forward(self, x):\n",
    "        # Flatten the input tensor to a 1D tensor\n",
    "        x = x.view(-1, 32*32*3)\n",
    "        # Pass the input tensor through the first fully connected layer and apply the ReLU activation function\n",
    "        x = F.relu(self.fc1(x))\n",
    "        # Pass the output tensor through the second fully connected layer and apply the ReLU activation function\n",
    "        x = F.relu(self.fc2(x))\n",
    "        # Pass the output tensor through the third fully connected layer and apply the ReLU activation function\n",
    "        x = F.relu(self.fc3(x))\n",
    "        # Pass the output tensor through the output layer and apply the log softmax activation function\n",
    "        x = F.log_softmax(self.fc4(x), dim=1)\n",
    "        # Return the output tensor\n",
    "        return x"
   ]
  },
  {
   "cell_type": "code",
   "execution_count": null,
   "metadata": {},
   "outputs": [],
   "source": [
    "# Train the model\n",
    "for epoch in range(num_epochs):\n",
    "    train_loss = 0.0\n",
    "    test_loss = 0.0\n",
    "    accuracy = 0.0\n",
    "    \n",
    "    # Train the model\n",
    "    model.train()\n",
    "    for data, target in trainloader:\n",
    "        # Clear the gradients\n",
    "        optimizer.zero_grad()\n",
    "        # Forward pass\n",
    "        output = model(data)\n",
    "        # Calculate the loss\n",
    "        loss = criterion(output, target)\n",
    "        # Backward pass\n",
    "        loss.backward()\n",
    "        # Update the parameters\n",
    "        optimizer.step()\n",
    "        # Calculate the training loss\n",
    "        train_loss += loss.item()*data.size(0)\n",
    "        \n",
    "    # Evaluate the model\n",
    "    model.eval()\n",
    "    for data, target in testloader:\n",
    "        # Forward pass\n",
    "        output = model(data)\n",
    "        # Calculate the loss\n",
    "        loss = criterion(output, target)\n",
    "        # Calculate the testing loss\n",
    "        test_loss += loss.item()*data.size(0)\n",
    "        # Calculate the accuracy\n",
    "        _, pred = torch.max(output, dim=1)\n",
    "        correct_tensor = pred.eq(target.data.view_as(pred))\n",
    "        accuracy += torch.mean(correct_tensor.type(torch.FloatTensor))\n",
    "        \n",
    "    # Calculate the average losses and accuracy\n",
    "    train_loss = train_loss/len(trainloader.dataset)\n",
    "    test_loss = test_loss/len(testloader.dataset)\n",
    "    accuracy = accuracy/len(testloader)\n",
    "    \n",
    "    # Print the results\n",
    "    print('Epoch: {} \\tTraining Loss: {:.6f} \\tTesting Loss: {:.6f} \\tAccuracy: {:.6f}'.format(\n",
    "        epoch+1, \n",
    "        train_loss,\n",
    "        test_loss,\n",
    "        accuracy\n",
    "        ))"
   ]
  }
 ],
 "metadata": {
  "kernelspec": {
   "display_name": "base",
   "language": "python",
   "name": "python3"
  },
  "language_info": {
   "codemirror_mode": {
    "name": "ipython",
    "version": 3
   },
   "file_extension": ".py",
   "mimetype": "text/x-python",
   "name": "python",
   "nbconvert_exporter": "python",
   "pygments_lexer": "ipython3",
   "version": "3.9.7"
  },
  "orig_nbformat": 4,
  "vscode": {
   "interpreter": {
    "hash": "4b5221f7fd568601ffb692ded55cc6a8f9f720c6422993e13b3964f3c2d5ea0a"
   }
  }
 },
 "nbformat": 4,
 "nbformat_minor": 2
}
